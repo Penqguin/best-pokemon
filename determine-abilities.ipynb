{
 "cells": [
  {
   "cell_type": "code",
   "execution_count": 16,
   "id": "ff05f1e8",
   "metadata": {},
   "outputs": [],
   "source": [
    "import pandas as pd\n",
    "\n",
    "trimedPokemonData = pd.read_csv('data/pokemon_data.csv')\n",
    "\n",
    "trimedPokemonData.set_index(\"ID\", inplace=True)\n",
    "\n",
    "trimedPokemonData = trimedPokemonData.drop(columns=[\"height_inches\", \n",
    "                                                    \"height_meters\", \n",
    "                                                    \"weight_pounds\", \n",
    "                                                    \"weight_kilograms\", \n",
    "                                                    \"capturing_rate\", \n",
    "                                                    \"gender_male_ratio\", \n",
    "                                                    \"egg_steps\", \n",
    "                                                    \"egg_cycles\", \n",
    "                                                    \"Forms\", \n",
    "                                                    \"gen\", \n",
    "                                                    \"Is_Legendary\", \n",
    "                                                    \"Is_Mythical\", \n",
    "                                                    \"Is_Ultra_Beast\"])\n",
    "\n",
    "learnSets = pd.read_csv('data/learnsets_wide.csv')\n",
    "\n",
    "moves = pd.read_csv('data/moves.csv')"
   ]
  },
  {
   "cell_type": "code",
   "execution_count": null,
   "id": "41acd760",
   "metadata": {},
   "outputs": [
    {
     "name": "stdout",
     "output_type": "stream",
     "text": [
      "True\n"
     ]
    }
   ],
   "source": []
  }
 ],
 "metadata": {
  "kernelspec": {
   "display_name": "Python 3",
   "language": "python",
   "name": "python3"
  },
  "language_info": {
   "codemirror_mode": {
    "name": "ipython",
    "version": 3
   },
   "file_extension": ".py",
   "mimetype": "text/x-python",
   "name": "python",
   "nbconvert_exporter": "python",
   "pygments_lexer": "ipython3",
   "version": "3.12.8"
  }
 },
 "nbformat": 4,
 "nbformat_minor": 5
}
